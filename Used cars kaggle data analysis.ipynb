{
 "cells": [
  {
   "cell_type": "code",
   "execution_count": 1,
   "metadata": {},
   "outputs": [],
   "source": [
    "import pandas as pd\n",
    "import numpy as np\n",
    "import matplotlib.pyplot as plt\n",
    "import seaborn as sns\n",
    "import os"
   ]
  },
  {
   "cell_type": "code",
   "execution_count": 2,
   "metadata": {},
   "outputs": [
    {
     "data": {
      "text/html": [
       "<div>\n",
       "<style scoped>\n",
       "    .dataframe tbody tr th:only-of-type {\n",
       "        vertical-align: middle;\n",
       "    }\n",
       "\n",
       "    .dataframe tbody tr th {\n",
       "        vertical-align: top;\n",
       "    }\n",
       "\n",
       "    .dataframe thead th {\n",
       "        text-align: right;\n",
       "    }\n",
       "</style>\n",
       "<table border=\"1\" class=\"dataframe\">\n",
       "  <thead>\n",
       "    <tr style=\"text-align: right;\">\n",
       "      <th></th>\n",
       "      <th>Id</th>\n",
       "      <th>year</th>\n",
       "      <th>brand</th>\n",
       "      <th>full_model_name</th>\n",
       "      <th>model_name</th>\n",
       "      <th>price</th>\n",
       "      <th>distance_travelled(kms)</th>\n",
       "      <th>fuel_type</th>\n",
       "      <th>city</th>\n",
       "    </tr>\n",
       "  </thead>\n",
       "  <tbody>\n",
       "    <tr>\n",
       "      <th>0</th>\n",
       "      <td>0</td>\n",
       "      <td>2016</td>\n",
       "      <td>Honda</td>\n",
       "      <td>Honda Brio S MT</td>\n",
       "      <td>Brio</td>\n",
       "      <td>425000.0</td>\n",
       "      <td>9680.0</td>\n",
       "      <td>Petrol</td>\n",
       "      <td>Mumbai</td>\n",
       "    </tr>\n",
       "    <tr>\n",
       "      <th>1</th>\n",
       "      <td>1</td>\n",
       "      <td>2012</td>\n",
       "      <td>Nissan</td>\n",
       "      <td>Nissan Sunny XV Diesel</td>\n",
       "      <td>Sunny</td>\n",
       "      <td>325000.0</td>\n",
       "      <td>119120.0</td>\n",
       "      <td>Diesel</td>\n",
       "      <td>Mumbai</td>\n",
       "    </tr>\n",
       "    <tr>\n",
       "      <th>2</th>\n",
       "      <td>2</td>\n",
       "      <td>2017</td>\n",
       "      <td>Toyota</td>\n",
       "      <td>Toyota Fortuner 2.8 4x2 MT [2016-2020]</td>\n",
       "      <td>Fortuner</td>\n",
       "      <td>2650000.0</td>\n",
       "      <td>64593.0</td>\n",
       "      <td>Diesel</td>\n",
       "      <td>Thane</td>\n",
       "    </tr>\n",
       "    <tr>\n",
       "      <th>3</th>\n",
       "      <td>3</td>\n",
       "      <td>2017</td>\n",
       "      <td>Mercedes-Benz</td>\n",
       "      <td>Mercedes-Benz E-Class E 220d Expression [2019-...</td>\n",
       "      <td>E-Class</td>\n",
       "      <td>4195000.0</td>\n",
       "      <td>25000.0</td>\n",
       "      <td>Diesel</td>\n",
       "      <td>Mumbai</td>\n",
       "    </tr>\n",
       "    <tr>\n",
       "      <th>4</th>\n",
       "      <td>4</td>\n",
       "      <td>2012</td>\n",
       "      <td>Hyundai</td>\n",
       "      <td>Hyundai Verna Fluidic 1.6 CRDi SX</td>\n",
       "      <td>Verna</td>\n",
       "      <td>475000.0</td>\n",
       "      <td>23800.0</td>\n",
       "      <td>Diesel</td>\n",
       "      <td>Mumbai</td>\n",
       "    </tr>\n",
       "  </tbody>\n",
       "</table>\n",
       "</div>"
      ],
      "text/plain": [
       "   Id  year          brand                                    full_model_name  \\\n",
       "0   0  2016          Honda                                    Honda Brio S MT   \n",
       "1   1  2012         Nissan                             Nissan Sunny XV Diesel   \n",
       "2   2  2017         Toyota             Toyota Fortuner 2.8 4x2 MT [2016-2020]   \n",
       "3   3  2017  Mercedes-Benz  Mercedes-Benz E-Class E 220d Expression [2019-...   \n",
       "4   4  2012        Hyundai                  Hyundai Verna Fluidic 1.6 CRDi SX   \n",
       "\n",
       "  model_name      price  distance_travelled(kms) fuel_type    city  \n",
       "0       Brio   425000.0                   9680.0    Petrol  Mumbai  \n",
       "1      Sunny   325000.0                 119120.0    Diesel  Mumbai  \n",
       "2   Fortuner  2650000.0                  64593.0    Diesel   Thane  \n",
       "3    E-Class  4195000.0                  25000.0    Diesel  Mumbai  \n",
       "4      Verna   475000.0                  23800.0    Diesel  Mumbai  "
      ]
     },
     "execution_count": 2,
     "metadata": {},
     "output_type": "execute_result"
    }
   ],
   "source": [
    "# Importing the data and doing basic analysis on it\n",
    "car_data = pd.read_csv(r\"F:\\used cars av practice\\UsedCars_Combined.csv\")\n",
    "car_data.head()"
   ]
  },
  {
   "cell_type": "code",
   "execution_count": 3,
   "metadata": {},
   "outputs": [
    {
     "data": {
      "text/plain": [
       "(1725, 9)"
      ]
     },
     "execution_count": 3,
     "metadata": {},
     "output_type": "execute_result"
    }
   ],
   "source": [
    "car_data.shape"
   ]
  },
  {
   "cell_type": "code",
   "execution_count": 4,
   "metadata": {},
   "outputs": [
    {
     "name": "stdout",
     "output_type": "stream",
     "text": [
      "<class 'pandas.core.frame.DataFrame'>\n",
      "RangeIndex: 1725 entries, 0 to 1724\n",
      "Data columns (total 9 columns):\n",
      " #   Column                   Non-Null Count  Dtype  \n",
      "---  ------                   --------------  -----  \n",
      " 0   Id                       1725 non-null   int64  \n",
      " 1   year                     1725 non-null   int64  \n",
      " 2   brand                    1725 non-null   object \n",
      " 3   full_model_name          1725 non-null   object \n",
      " 4   model_name               1725 non-null   object \n",
      " 5   price                    1725 non-null   float64\n",
      " 6   distance_travelled(kms)  1725 non-null   float64\n",
      " 7   fuel_type                1725 non-null   object \n",
      " 8   city                     1725 non-null   object \n",
      "dtypes: float64(2), int64(2), object(5)\n",
      "memory usage: 121.4+ KB\n"
     ]
    }
   ],
   "source": [
    "car_data.info()"
   ]
  },
  {
   "cell_type": "code",
   "execution_count": 7,
   "metadata": {},
   "outputs": [
    {
     "data": {
      "text/html": [
       "<div>\n",
       "<style scoped>\n",
       "    .dataframe tbody tr th:only-of-type {\n",
       "        vertical-align: middle;\n",
       "    }\n",
       "\n",
       "    .dataframe tbody tr th {\n",
       "        vertical-align: top;\n",
       "    }\n",
       "\n",
       "    .dataframe thead th {\n",
       "        text-align: right;\n",
       "    }\n",
       "</style>\n",
       "<table border=\"1\" class=\"dataframe\">\n",
       "  <thead>\n",
       "    <tr style=\"text-align: right;\">\n",
       "      <th></th>\n",
       "      <th>count</th>\n",
       "      <th>mean</th>\n",
       "      <th>std</th>\n",
       "      <th>min</th>\n",
       "      <th>1%</th>\n",
       "      <th>5%</th>\n",
       "      <th>10%</th>\n",
       "      <th>25%</th>\n",
       "      <th>50%</th>\n",
       "      <th>75%</th>\n",
       "      <th>90%</th>\n",
       "      <th>95%</th>\n",
       "      <th>96%</th>\n",
       "      <th>97%</th>\n",
       "      <th>98%</th>\n",
       "      <th>99%</th>\n",
       "      <th>max</th>\n",
       "    </tr>\n",
       "  </thead>\n",
       "  <tbody>\n",
       "    <tr>\n",
       "      <th>Id</th>\n",
       "      <td>1725.0</td>\n",
       "      <td>8.620000e+02</td>\n",
       "      <td>4.981089e+02</td>\n",
       "      <td>0.0</td>\n",
       "      <td>17.24</td>\n",
       "      <td>86.2</td>\n",
       "      <td>172.4</td>\n",
       "      <td>431.0</td>\n",
       "      <td>862.0</td>\n",
       "      <td>1293.0</td>\n",
       "      <td>1551.6</td>\n",
       "      <td>1637.8</td>\n",
       "      <td>1655.04</td>\n",
       "      <td>1672.28</td>\n",
       "      <td>1689.52</td>\n",
       "      <td>1706.76</td>\n",
       "      <td>1724.0</td>\n",
       "    </tr>\n",
       "    <tr>\n",
       "      <th>year</th>\n",
       "      <td>1725.0</td>\n",
       "      <td>2.015391e+03</td>\n",
       "      <td>3.207504e+00</td>\n",
       "      <td>1990.0</td>\n",
       "      <td>2007.00</td>\n",
       "      <td>2010.0</td>\n",
       "      <td>2011.0</td>\n",
       "      <td>2013.0</td>\n",
       "      <td>2016.0</td>\n",
       "      <td>2018.0</td>\n",
       "      <td>2019.0</td>\n",
       "      <td>2020.0</td>\n",
       "      <td>2020.00</td>\n",
       "      <td>2020.00</td>\n",
       "      <td>2020.00</td>\n",
       "      <td>2021.00</td>\n",
       "      <td>2021.0</td>\n",
       "    </tr>\n",
       "    <tr>\n",
       "      <th>price</th>\n",
       "      <td>1725.0</td>\n",
       "      <td>1.494837e+06</td>\n",
       "      <td>1.671658e+06</td>\n",
       "      <td>62500.0</td>\n",
       "      <td>171960.00</td>\n",
       "      <td>291000.0</td>\n",
       "      <td>355000.0</td>\n",
       "      <td>545000.0</td>\n",
       "      <td>875000.0</td>\n",
       "      <td>1825000.0</td>\n",
       "      <td>3500000.0</td>\n",
       "      <td>4740000.0</td>\n",
       "      <td>5200000.00</td>\n",
       "      <td>5650000.00</td>\n",
       "      <td>6552000.00</td>\n",
       "      <td>7500000.00</td>\n",
       "      <td>14700000.0</td>\n",
       "    </tr>\n",
       "    <tr>\n",
       "      <th>distance_travelled(kms)</th>\n",
       "      <td>1725.0</td>\n",
       "      <td>5.384826e+04</td>\n",
       "      <td>4.472554e+04</td>\n",
       "      <td>350.0</td>\n",
       "      <td>2774.48</td>\n",
       "      <td>9026.2</td>\n",
       "      <td>14000.0</td>\n",
       "      <td>29000.0</td>\n",
       "      <td>49000.0</td>\n",
       "      <td>70500.0</td>\n",
       "      <td>90000.0</td>\n",
       "      <td>108160.0</td>\n",
       "      <td>118014.52</td>\n",
       "      <td>127000.00</td>\n",
       "      <td>141468.00</td>\n",
       "      <td>169272.56</td>\n",
       "      <td>790000.0</td>\n",
       "    </tr>\n",
       "  </tbody>\n",
       "</table>\n",
       "</div>"
      ],
      "text/plain": [
       "                          count          mean           std      min  \\\n",
       "Id                       1725.0  8.620000e+02  4.981089e+02      0.0   \n",
       "year                     1725.0  2.015391e+03  3.207504e+00   1990.0   \n",
       "price                    1725.0  1.494837e+06  1.671658e+06  62500.0   \n",
       "distance_travelled(kms)  1725.0  5.384826e+04  4.472554e+04    350.0   \n",
       "\n",
       "                                1%        5%       10%       25%       50%  \\\n",
       "Id                           17.24      86.2     172.4     431.0     862.0   \n",
       "year                       2007.00    2010.0    2011.0    2013.0    2016.0   \n",
       "price                    171960.00  291000.0  355000.0  545000.0  875000.0   \n",
       "distance_travelled(kms)    2774.48    9026.2   14000.0   29000.0   49000.0   \n",
       "\n",
       "                               75%        90%        95%         96%  \\\n",
       "Id                          1293.0     1551.6     1637.8     1655.04   \n",
       "year                        2018.0     2019.0     2020.0     2020.00   \n",
       "price                    1825000.0  3500000.0  4740000.0  5200000.00   \n",
       "distance_travelled(kms)    70500.0    90000.0   108160.0   118014.52   \n",
       "\n",
       "                                97%         98%         99%         max  \n",
       "Id                          1672.28     1689.52     1706.76      1724.0  \n",
       "year                        2020.00     2020.00     2021.00      2021.0  \n",
       "price                    5650000.00  6552000.00  7500000.00  14700000.0  \n",
       "distance_travelled(kms)   127000.00   141468.00   169272.56    790000.0  "
      ]
     },
     "execution_count": 7,
     "metadata": {},
     "output_type": "execute_result"
    }
   ],
   "source": [
    "car_data.describe(percentiles=[0.01,0.05,0.10,0.25,0.50,0.75,0.90,0.95,0.96,0.97,0.98,0.99]).T"
   ]
  },
  {
   "cell_type": "code",
   "execution_count": 5,
   "metadata": {},
   "outputs": [],
   "source": [
    "# no missing value"
   ]
  },
  {
   "cell_type": "markdown",
   "metadata": {},
   "source": [
    "#### Univaraiate Analysis"
   ]
  },
  {
   "cell_type": "code",
   "execution_count": 6,
   "metadata": {},
   "outputs": [
    {
     "name": "stdout",
     "output_type": "stream",
     "text": [
      "19\n",
      "[2016 2012 2017 2019 2018 2015 2010 2013 2014 2020 2009 2006 2021 2008\n",
      " 2011 2007 2005 2004 1990]\n",
      "2018    246\n",
      "2017    228\n",
      "2016    215\n",
      "2015    185\n",
      "2019    164\n",
      "2014    138\n",
      "2012    136\n",
      "2013    104\n",
      "2020     80\n",
      "2011     77\n",
      "2010     54\n",
      "2009     27\n",
      "2008     22\n",
      "2021     21\n",
      "2007     14\n",
      "2004      5\n",
      "2005      5\n",
      "2006      3\n",
      "1990      1\n",
      "Name: year, dtype: int64\n"
     ]
    }
   ],
   "source": [
    "print(car_data['year'].nunique())\n",
    "print(car_data['year'].unique())\n",
    "print(car_data['year'].value_counts())"
   ]
  },
  {
   "cell_type": "code",
   "execution_count": 5,
   "metadata": {},
   "outputs": [
    {
     "name": "stderr",
     "output_type": "stream",
     "text": [
      "C:\\Users\\dell\\anaconda3\\lib\\site-packages\\seaborn\\_decorators.py:36: FutureWarning: Pass the following variable as a keyword arg: x. From version 0.12, the only valid positional argument will be `data`, and passing other arguments without an explicit keyword will result in an error or misinterpretation.\n",
      "  warnings.warn(\n"
     ]
    },
    {
     "data": {
      "text/plain": [
       "<AxesSubplot:xlabel='year', ylabel='count'>"
      ]
     },
     "execution_count": 5,
     "metadata": {},
     "output_type": "execute_result"
    },
    {
     "data": {
      "image/png": "[encoded data removed]",
      "text/plain": [
       "<Figure size 1080x720 with 1 Axes>"
      ]
     },
     "metadata": {
      "needs_background": "light"
     },
     "output_type": "display_data"
    }
   ],
   "source": [
    "plt.figure(figsize=(15,10))\n",
    "sns.countplot(car_data['year'])"
   ]
  },
  {
   "cell_type": "code",
   "execution_count": 7,
   "metadata": {},
   "outputs": [
    {
     "name": "stdout",
     "output_type": "stream",
     "text": [
      "31\n",
      "['Honda' 'Nissan' 'Toyota' 'Mercedes-Benz' 'Hyundai' 'Maruti Suzuki'\n",
      " 'Renault' 'Volkswagen' 'Skoda' 'BMW' 'Tata' 'Audi' 'Bentley' 'Ford'\n",
      " 'Mahindra' 'Jaguar' 'Lamborghini' 'MINI' 'Land Rover' 'Chevrolet'\n",
      " 'Datsun' 'Jeep' 'Porsche' 'Volvo' 'MG' 'Lexus' 'Mitsubishi' 'Kia' 'Fiat'\n",
      " 'Isuzu' 'Mahindra-Renault']\n",
      "Hyundai             297\n",
      "Maruti Suzuki       275\n",
      "Honda               153\n",
      "Mercedes-Benz       131\n",
      "Toyota              117\n",
      "BMW                 111\n",
      "Audi                 98\n",
      "Mahindra             93\n",
      "Ford                 78\n",
      "Volkswagen           70\n",
      "Renault              51\n",
      "Skoda                45\n",
      "Tata                 44\n",
      "Jaguar               30\n",
      "Land Rover           28\n",
      "Volvo                17\n",
      "Nissan               13\n",
      "Kia                  12\n",
      "Jeep                 10\n",
      "MINI                 10\n",
      "MG                   10\n",
      "Chevrolet             9\n",
      "Porsche               5\n",
      "Mitsubishi            4\n",
      "Bentley               3\n",
      "Datsun                3\n",
      "Fiat                  2\n",
      "Lexus                 2\n",
      "Lamborghini           2\n",
      "Isuzu                 1\n",
      "Mahindra-Renault      1\n",
      "Name: brand, dtype: int64\n"
     ]
    }
   ],
   "source": [
    "print(car_data['brand'].nunique())\n",
    "print(car_data['brand'].unique())\n",
    "print(car_data['brand'].value_counts())"
   ]
  },
  {
   "cell_type": "code",
   "execution_count": 8,
   "metadata": {},
   "outputs": [
    {
     "name": "stderr",
     "output_type": "stream",
     "text": [
      "C:\\Users\\dell\\anaconda3\\lib\\site-packages\\seaborn\\_decorators.py:36: FutureWarning: Pass the following variable as a keyword arg: x. From version 0.12, the only valid positional argument will be `data`, and passing other arguments without an explicit keyword will result in an error or misinterpretation.\n",
      "  warnings.warn(\n"
     ]
    },
    {
     "data": {
      "text/plain": [
       "<AxesSubplot:xlabel='brand', ylabel='count'>"
      ]
     },
     "execution_count": 8,
     "metadata": {},
     "output_type": "execute_result"
    },
    {
     "data": {
      "image/png": "[encoded data removed]",
      "text/plain": [
       "<Figure size 1440x720 with 1 Axes>"
      ]
     },
     "metadata": {
      "needs_background": "light"
     },
     "output_type": "display_data"
    }
   ],
   "source": [
    "plt.figure(figsize=(20,10))\n",
    "sns.countplot(car_data['brand'])"
   ]
  },
  {
   "cell_type": "code",
   "execution_count": 8,
   "metadata": {},
   "outputs": [
    {
     "name": "stdout",
     "output_type": "stream",
     "text": [
      "5\n",
      "['Petrol' 'Diesel' 'Petrol + 1' 'CNG + 1' 'Hybrid']\n",
      "Diesel        922\n",
      "Petrol        788\n",
      "CNG + 1         8\n",
      "Petrol + 1      6\n",
      "Hybrid          1\n",
      "Name: fuel_type, dtype: int64\n"
     ]
    }
   ],
   "source": [
    "print(car_data['fuel_type'].nunique())\n",
    "print(car_data['fuel_type'].unique())\n",
    "print(car_data['fuel_type'].value_counts())"
   ]
  },
  {
   "cell_type": "code",
   "execution_count": 3,
   "metadata": {},
   "outputs": [],
   "source": [
    "# changing petrol +1 to petrol\n",
    "car_data['fuel_type'] = np.where(car_data['fuel_type']=='Petrol + 1','Petrol',car_data['fuel_type'])\n",
    "car_data['fuel_type'] = np.where((car_data['fuel_type']=='CNG + 1') | (car_data['fuel_type']=='Hybrid'),'Other',car_data['fuel_type'])"
   ]
  },
  {
   "cell_type": "code",
   "execution_count": 11,
   "metadata": {},
   "outputs": [
    {
     "name": "stderr",
     "output_type": "stream",
     "text": [
      "C:\\Users\\dell\\anaconda3\\lib\\site-packages\\seaborn\\_decorators.py:36: FutureWarning: Pass the following variable as a keyword arg: x. From version 0.12, the only valid positional argument will be `data`, and passing other arguments without an explicit keyword will result in an error or misinterpretation.\n",
      "  warnings.warn(\n"
     ]
    },
    {
     "data": {
      "text/plain": [
       "<AxesSubplot:xlabel='fuel_type', ylabel='count'>"
      ]
     },
     "execution_count": 11,
     "metadata": {},
     "output_type": "execute_result"
    },
    {
     "data": {
      "image/png": "[encoded data removed]",
      "text/plain": [
       "<Figure size 432x288 with 1 Axes>"
      ]
     },
     "metadata": {
      "needs_background": "light"
     },
     "output_type": "display_data"
    }
   ],
   "source": [
    "sns.countplot(car_data['fuel_type'])"
   ]
  },
  {
   "cell_type": "code",
   "execution_count": 10,
   "metadata": {},
   "outputs": [
    {
     "name": "stdout",
     "output_type": "stream",
     "text": [
      "15\n",
      "['Mumbai' 'Thane' 'Dehradun' 'Navi Mumbai' 'Delhi' 'Noida' 'Ghaziabad'\n",
      " 'Panchkula' 'Faridabad' 'Agra' 'Lucknow' 'Bangalore' 'Hyderabad'\n",
      " 'Chennai' 'Pune']\n",
      "Chennai        493\n",
      "Pune           247\n",
      "Bangalore      247\n",
      "Hyderabad      245\n",
      "Delhi          187\n",
      "Mumbai         165\n",
      "Dehradun        56\n",
      "Thane           48\n",
      "Noida           12\n",
      "Ghaziabad       10\n",
      "Lucknow          6\n",
      "Navi Mumbai      5\n",
      "Faridabad        2\n",
      "Agra             1\n",
      "Panchkula        1\n",
      "Name: city, dtype: int64\n"
     ]
    }
   ],
   "source": [
    "print(car_data['city'].nunique())\n",
    "print(car_data['city'].unique())\n",
    "print(car_data['city'].value_counts())"
   ]
  },
  {
   "cell_type": "code",
   "execution_count": 12,
   "metadata": {},
   "outputs": [
    {
     "name": "stderr",
     "output_type": "stream",
     "text": [
      "C:\\Users\\dell\\anaconda3\\lib\\site-packages\\seaborn\\_decorators.py:36: FutureWarning: Pass the following variable as a keyword arg: x. From version 0.12, the only valid positional argument will be `data`, and passing other arguments without an explicit keyword will result in an error or misinterpretation.\n",
      "  warnings.warn(\n"
     ]
    },
    {
     "data": {
      "text/plain": [
       "<AxesSubplot:xlabel='city', ylabel='count'>"
      ]
     },
     "execution_count": 12,
     "metadata": {},
     "output_type": "execute_result"
    },
    {
     "data": {
      "image/png": "[encoded data removed]",
      "text/plain": [
       "<Figure size 1080x720 with 1 Axes>"
      ]
     },
     "metadata": {
      "needs_background": "light"
     },
     "output_type": "display_data"
    }
   ],
   "source": [
    "plt.figure(figsize=(15,10))\n",
    "sns.countplot(car_data['city'])"
   ]
  },
  {
   "cell_type": "code",
   "execution_count": 11,
   "metadata": {},
   "outputs": [
    {
     "name": "stdout",
     "output_type": "stream",
     "text": [
      "169\n",
      "['Brio' 'Sunny' 'Fortuner' 'E-Class' 'Verna' 'i20' 'Glanza' 'GLE' 'Grand'\n",
      " 'Swift' 'Xcent' 'Innova' 'Baleno' 'Pulse' 'Corolla' 'Polo' 'WR-V' 'Ritz'\n",
      " 'Rapid' 'City' 'Celerio' '3' 'Vento' 'Jazz' 'Nano' 'GLA' 'A-Star' 'Q5'\n",
      " 'X1' 'Z4' 'A3' 'A4' 'X3' 'Continental' 'Q3' 'Q7' 'A6' '7' 'Endeavour'\n",
      " 'XUV500' 'F-Pace' 'XE' 'Gallardo' 'Countryman' 'C-Class' 'Evoque'\n",
      " 'S-Class' 'Lodgy' 'CLA' 'Creta' 'A8' 'B-Class' 'A-Class' '5' 'Cooper'\n",
      " 'Terrano' 'CR-V' 'Freelander' 'Ciaz' 'Beat' 'KUV100' 'Duster' 'redi-GO'\n",
      " 'Tiago' 'Altroz' 'TUV300' 'Vitara' 'Etios' 'Figo' 'Civic' 'Compass'\n",
      " 'Elite' 'Bolero' 'SX4' 'Cayenne' 'V40' 'Superb' 'Dzire' 'i10' 'Zest'\n",
      " 'BR-V' 'S-Cross' 'Elantra' 'Discovery' 'Accord' 'Scorpio' 'X5' 'Estilo'\n",
      " 'XF' 'Santro' '6' 'GO' 'Passat' 'Wagon' 'Jetta' 'Safari' 'EcoSport'\n",
      " 'Kwid' 'Hector' 'Mustang' 'SLK' 'X7' '718' 'Aria' '3.0' 'Land' 'GLC' 'NX'\n",
      " 'Thar' 'ES' 'GLS' 'Ertiga' 'Ameo' 'Sport' 'Harrier' 'Outlander' 'Seltos'\n",
      " 'Amaze' 'Octavia' 'M-Class' 'GL' 'XUV300' 'Avventura' 'Micra' 'Eeco'\n",
      " 'Eon' 'Fluidic' 'Alto' 'Cross' 'Yaris' 'Triber' 'Nexon' 'Tigor' 'Aspire'\n",
      " 'Venue' 'Freestyle' '4.4' 'XL6' 'Qualis' 'Enjoy' 'Verito' 'S60' 'XC90'\n",
      " 'G-Class' 'MU-X' 'Tiguan' 'Sonet' 'XJ' 'S90' 'Tucson' 'Indica' 'Laura'\n",
      " 'Hexa' 'Captur' 'Yeti' 'Quanto' 'Camry' 'XC60' 'Fiesta' 'CLS' 'X4'\n",
      " 'Ignis' 'Alturas' 'Abarth' 'Fabia' 'Pajero' 'Cruze' 'Logan' 'Jeep']\n",
      "Creta         71\n",
      "Innova        69\n",
      "City          68\n",
      "Swift         58\n",
      "XUV500        46\n",
      "              ..\n",
      "redi-GO        1\n",
      "CLS            1\n",
      "ES             1\n",
      "Freelander     1\n",
      "Altroz         1\n",
      "Name: model_name, Length: 169, dtype: int64\n"
     ]
    }
   ],
   "source": [
    "print(car_data['model_name'].nunique())\n",
    "print(car_data['model_name'].unique())\n",
    "print(car_data['model_name'].value_counts())"
   ]
  },
  {
   "cell_type": "code",
   "execution_count": 13,
   "metadata": {},
   "outputs": [
    {
     "name": "stderr",
     "output_type": "stream",
     "text": [
      "C:\\Users\\dell\\anaconda3\\lib\\site-packages\\seaborn\\_decorators.py:36: FutureWarning: Pass the following variable as a keyword arg: x. From version 0.12, the only valid positional argument will be `data`, and passing other arguments without an explicit keyword will result in an error or misinterpretation.\n",
      "  warnings.warn(\n"
     ]
    },
    {
     "data": {
      "text/plain": [
       "<AxesSubplot:xlabel='model_name', ylabel='count'>"
      ]
     },
     "execution_count": 13,
     "metadata": {},
     "output_type": "execute_result"
    },
    {
     "data": {
      "image/png": "[encoded data removed]",
      "text/plain": [
       "<Figure size 1080x720 with 1 Axes>"
      ]
     },
     "metadata": {
      "needs_background": "light"
     },
     "output_type": "display_data"
    }
   ],
   "source": [
    "plt.figure(figsize=(15,10))\n",
    "sns.countplot(car_data['model_name'])"
   ]
  },
  {
   "cell_type": "code",
   "execution_count": 10,
   "metadata": {},
   "outputs": [
    {
     "data": {
      "image/png": "[encoded data removed]",
      "text/plain": [
       "<Figure size 432x288 with 1 Axes>"
      ]
     },
     "metadata": {
      "needs_background": "light"
     },
     "output_type": "display_data"
    }
   ],
   "source": [
    "plt.hist(car_data[\"distance_travelled(kms)\"])\n",
    "plt.show()"
   ]
  },
  {
   "cell_type": "markdown",
   "metadata": {},
   "source": [
    "#### Bi-variate Analysis"
   ]
  },
  {
   "cell_type": "code",
   "execution_count": 8,
   "metadata": {},
   "outputs": [
    {
     "name": "stderr",
     "output_type": "stream",
     "text": [
      "C:\\Users\\dell\\anaconda3\\lib\\site-packages\\seaborn\\_decorators.py:36: FutureWarning: Pass the following variable as a keyword arg: x. From version 0.12, the only valid positional argument will be `data`, and passing other arguments without an explicit keyword will result in an error or misinterpretation.\n",
      "  warnings.warn(\n"
     ]
    },
    {
     "data": {
      "text/plain": [
       "<matplotlib.legend.Legend at 0x26a176d7cd0>"
      ]
     },
     "execution_count": 8,
     "metadata": {},
     "output_type": "execute_result"
    },
    {
     "data": {
      "image/png": "[encoded data removed]",
      "text/plain": [
       "<Figure size 1800x720 with 1 Axes>"
      ]
     },
     "metadata": {
      "needs_background": "light"
     },
     "output_type": "display_data"
    }
   ],
   "source": [
    "plt.figure(figsize=(25,10))\n",
    "sns.countplot(car_data['city'], hue = car_data['fuel_type'], palette = 'Greens')\n",
    "plt.title('City wise fuel preference',  fontsize=18, fontweight='bold')\n",
    "plt.xticks(fontsize=16)\n",
    "plt.yticks(fontsize=16)\n",
    "plt.legend(fontsize=16)"
   ]
  },
  {
   "cell_type": "code",
   "execution_count": 14,
   "metadata": {},
   "outputs": [
    {
     "data": {
      "text/plain": [
       "<matplotlib.collections.PathCollection at 0x26a192d4a60>"
      ]
     },
     "execution_count": 14,
     "metadata": {},
     "output_type": "execute_result"
    },
    {
     "data": {
      "image/png": "[encoded data removed]",
      "text/plain": [
       "<Figure size 1080x576 with 1 Axes>"
      ]
     },
     "metadata": {
      "needs_background": "light"
     },
     "output_type": "display_data"
    }
   ],
   "source": [
    "plt.figure(figsize=(15,8))\n",
    "plt.scatter(car_data['price'],car_data['distance_travelled(kms)'],color='green')"
   ]
  },
  {
   "cell_type": "markdown",
   "metadata": {},
   "source": [
    "#### Label encoding"
   ]
  },
  {
   "cell_type": "code",
   "execution_count": 12,
   "metadata": {},
   "outputs": [],
   "source": [
    "from sklearn.preprocessing import LabelEncoder"
   ]
  },
  {
   "cell_type": "code",
   "execution_count": 13,
   "metadata": {},
   "outputs": [],
   "source": [
    "labelencoder = LabelEncoder()\n",
    "car_data['brand'] = labelencoder.fit_transform(car_data['brand']) "
   ]
  },
  {
   "cell_type": "code",
   "execution_count": 14,
   "metadata": {},
   "outputs": [],
   "source": [
    "car_data['fuel_type'] = labelencoder.fit_transform(car_data['fuel_type'])\n",
    "car_data['city'] = labelencoder.fit_transform(car_data['city'])"
   ]
  },
  {
   "cell_type": "code",
   "execution_count": 16,
   "metadata": {},
   "outputs": [],
   "source": [
    "from sklearn.model_selection import train_test_split\n",
    "from sklearn.linear_model import LinearRegression\n",
    "from sklearn.tree import DecisionTreeRegressor\n",
    "from sklearn.model_selection import GridSearchCV\n",
    "from sklearn.ensemble import RandomForestRegressor\n",
    "from sklearn.ensemble import GradientBoostingRegressor\n",
    "from xgboost import XGBRegressor"
   ]
  },
  {
   "cell_type": "markdown",
   "metadata": {},
   "source": [
    "#### Splitting the data"
   ]
  },
  {
   "cell_type": "code",
   "execution_count": 18,
   "metadata": {},
   "outputs": [],
   "source": [
    "x=car_data[['year','brand','distance_travelled(kms)','fuel_type','city']]\n",
    "y=car_data['price']"
   ]
  },
  {
   "cell_type": "code",
   "execution_count": 19,
   "metadata": {},
   "outputs": [],
   "source": [
    "x_train,x_test,y_train,y_test=train_test_split(x,y,test_size=0.25,random_state=0)"
   ]
  },
  {
   "cell_type": "markdown",
   "metadata": {},
   "source": [
    "### Linear Regression"
   ]
  },
  {
   "cell_type": "code",
   "execution_count": 20,
   "metadata": {},
   "outputs": [
    {
     "data": {
      "text/plain": [
       "LinearRegression()"
      ]
     },
     "execution_count": 20,
     "metadata": {},
     "output_type": "execute_result"
    }
   ],
   "source": [
    "lr=LinearRegression()\n",
    "lr.fit(x_train,y_train)"
   ]
  },
  {
   "cell_type": "code",
   "execution_count": 21,
   "metadata": {},
   "outputs": [],
   "source": [
    "pred_train = lr.predict(x_train)\n",
    "pred_test = lr.predict(x_test)"
   ]
  },
  {
   "cell_type": "code",
   "execution_count": 22,
   "metadata": {},
   "outputs": [
    {
     "name": "stdout",
     "output_type": "stream",
     "text": [
      "R^2 of train : 0.15509833066514078\n",
      "R^2 of test : 0.2280810780179352\n",
      "RMSE of train : 1619455.9164359618\n",
      "RMSE of test : 1192794.9278378058\n",
      "MAE of train : 961616.6767927103\n",
      "MAE of test : 870370.885714835\n"
     ]
    }
   ],
   "source": [
    "print(\"R^2 of train :\",lr.score(x_train,y_train))\n",
    "print(\"R^2 of test :\",lr.score(x_test,y_test))\n",
    "print(\"RMSE of train :\",np.sqrt(np.mean(((y_train-pred_train)**2))))\n",
    "print(\"RMSE of test :\",np.sqrt(np.mean(((y_test-pred_test)**2))))\n",
    "print(\"MAE of train :\",np.mean(np.abs(((y_train-pred_train)))))\n",
    "print(\"MAE of test :\",np.mean(np.abs(((y_test-pred_test)))))"
   ]
  },
  {
   "cell_type": "markdown",
   "metadata": {},
   "source": [
    "### Decision Tree Regressor"
   ]
  },
  {
   "cell_type": "code",
   "execution_count": 24,
   "metadata": {},
   "outputs": [
    {
     "data": {
      "text/plain": [
       "DecisionTreeRegressor()"
      ]
     },
     "execution_count": 24,
     "metadata": {},
     "output_type": "execute_result"
    }
   ],
   "source": [
    "dt = DecisionTreeRegressor()\n",
    "dt.fit(x_train,y_train)"
   ]
  },
  {
   "cell_type": "code",
   "execution_count": 25,
   "metadata": {},
   "outputs": [],
   "source": [
    "pred_train_dt = dt.predict(x_train)\n",
    "pred_test_dt = dt.predict(x_test)"
   ]
  },
  {
   "cell_type": "code",
   "execution_count": 26,
   "metadata": {},
   "outputs": [
    {
     "name": "stdout",
     "output_type": "stream",
     "text": [
      "R^2 of train : 0.999972091539996\n",
      "R^2 of test : 0.5625205321053963\n",
      "RMSE of train : 9307.52009906138\n",
      "RMSE of test : 897963.6939863396\n",
      "MAE of train : 638.0510440835267\n",
      "MAE of test : 358535.8796296296\n"
     ]
    }
   ],
   "source": [
    "print(\"R^2 of train :\",dt.score(x_train,y_train))\n",
    "print(\"R^2 of test :\",dt.score(x_test,y_test))\n",
    "print(\"RMSE of train :\",np.sqrt(np.mean(((y_train-pred_train_dt)**2))))\n",
    "print(\"RMSE of test :\",np.sqrt(np.mean(((y_test-pred_test_dt)**2))))\n",
    "print(\"MAE of train :\",np.mean(np.abs(((y_train-pred_train_dt)))))\n",
    "print(\"MAE of test :\",np.mean(np.abs(((y_test-pred_test_dt)))))"
   ]
  },
  {
   "cell_type": "code",
   "execution_count": 27,
   "metadata": {},
   "outputs": [
    {
     "name": "stdout",
     "output_type": "stream",
     "text": [
      "Fitting 10 folds for each of 672 candidates, totalling 6720 fits\n"
     ]
    },
    {
     "data": {
      "text/plain": [
       "GridSearchCV(cv=10, estimator=DecisionTreeRegressor(random_state=0), n_jobs=-1,\n",
       "             param_grid={'criterion': ['mae', 'mse'],\n",
       "                         'max_depth': [2, 3, 4, 5, 6, 7, 8, 9],\n",
       "                         'min_samples_leaf': [5, 7, 9, 11, 13, 15, 17],\n",
       "                         'min_samples_split': [2, 3, 4, 5, 6, 7]},\n",
       "             verbose=1)"
      ]
     },
     "execution_count": 27,
     "metadata": {},
     "output_type": "execute_result"
    }
   ],
   "source": [
    "dt1 = DecisionTreeRegressor(random_state=0)\n",
    "parameters = {'criterion':['mae','mse'],\n",
    "             'max_depth': [2,3,4,5,6,7,8,9],\n",
    "             'min_samples_split' : [2,3,4,5,6,7],\n",
    "             'min_samples_leaf' : [5,7,9,11,13,15,17]}\n",
    "gs_dt = GridSearchCV(dt1,param_grid=parameters,cv=10,n_jobs=-1,verbose=1)\n",
    "gs_dt.fit(x_train,y_train)"
   ]
  },
  {
   "cell_type": "code",
   "execution_count": 28,
   "metadata": {},
   "outputs": [
    {
     "data": {
      "text/plain": [
       "{'criterion': 'mae',\n",
       " 'max_depth': 9,\n",
       " 'min_samples_leaf': 7,\n",
       " 'min_samples_split': 2}"
      ]
     },
     "execution_count": 28,
     "metadata": {},
     "output_type": "execute_result"
    }
   ],
   "source": [
    "gs_dt.best_params_"
   ]
  },
  {
   "cell_type": "code",
   "execution_count": 29,
   "metadata": {},
   "outputs": [
    {
     "data": {
      "text/plain": [
       "DecisionTreeRegressor(criterion='mae', max_depth=9, min_samples_leaf=7)"
      ]
     },
     "execution_count": 29,
     "metadata": {},
     "output_type": "execute_result"
    }
   ],
   "source": [
    "dt2 = DecisionTreeRegressor(criterion = 'mae',max_depth = 9,min_samples_leaf = 7,min_samples_split= 2)\n",
    "dt2.fit(x_train,y_train)"
   ]
  },
  {
   "cell_type": "code",
   "execution_count": 30,
   "metadata": {},
   "outputs": [],
   "source": [
    "pred_train_dt2 = dt2.predict(x_train)\n",
    "pred_test_dt2 = dt2.predict(x_test)"
   ]
  },
  {
   "cell_type": "code",
   "execution_count": 31,
   "metadata": {},
   "outputs": [
    {
     "name": "stdout",
     "output_type": "stream",
     "text": [
      "r2 of train : 0.5162284075071716\n",
      "r2 of test : 0.569717361013454\n",
      "rmse of train : 173426.52745552978\n",
      "rmse of test : 86750.0\n"
     ]
    }
   ],
   "source": [
    "print(\"r2 of train :\" ,dt2.score(x_train,y_train))\n",
    "print(\"r2 of test :\" ,dt2.score(x_test,y_test))\n",
    "print(\"rmse of train :\", np.sqrt(np.mean(y_train-pred_train_dt2)**2))\n",
    "print(\"rmse of test :\" ,np.sqrt(np.mean(y_test-pred_test_dt2)**2))"
   ]
  },
  {
   "cell_type": "markdown",
   "metadata": {},
   "source": [
    "### Random Forest Regressor"
   ]
  },
  {
   "cell_type": "code",
   "execution_count": 33,
   "metadata": {},
   "outputs": [
    {
     "name": "stdout",
     "output_type": "stream",
     "text": [
      "r2 of train: 0.9491327667554635\n",
      "r2 of test: 0.726001058806312\n"
     ]
    }
   ],
   "source": [
    "rf = RandomForestRegressor()\n",
    "rf.fit(x_train,y_train)\n",
    "print('r2 of train:', rf.score(x_train,y_train))\n",
    "print('r2 of test:', rf.score(x_test,y_test))"
   ]
  },
  {
   "cell_type": "code",
   "execution_count": 34,
   "metadata": {},
   "outputs": [
    {
     "name": "stdout",
     "output_type": "stream",
     "text": [
      "Fitting 5 folds for each of 2880 candidates, totalling 14400 fits\n"
     ]
    },
    {
     "data": {
      "text/plain": [
       "GridSearchCV(cv=5, estimator=RandomForestRegressor(random_state=0), n_jobs=-1,\n",
       "             param_grid={'bootstrap': ['True', 'False'],\n",
       "                         'criterion': ['mse', 'mae'],\n",
       "                         'max_depth': [4, 5, 6, 7, 8, 9],\n",
       "                         'max_features': ['auto', None],\n",
       "                         'min_samples_leaf': [2, 3, 4, 5, 6],\n",
       "                         'min_samples_split': [5, 7, 9, 11],\n",
       "                         'n_estimators': [100, 125, 150]},\n",
       "             verbose=1)"
      ]
     },
     "execution_count": 34,
     "metadata": {},
     "output_type": "execute_result"
    }
   ],
   "source": [
    "rf1 = RandomForestRegressor(random_state=0)\n",
    "parameters = {'criterion' : ['mse','mae'],\n",
    "             'n_estimators' : [100,125,150],\n",
    "             'max_depth' : [4,5,6,7,8,9],\n",
    "             'min_samples_split' : [5,7,9,11],\n",
    "             'min_samples_leaf' : [2,3,4,5,6],\n",
    "             'bootstrap' : ['True','False'] ,\n",
    "             'max_features' : ['auto',None]}\n",
    "\n",
    "gs_rf = GridSearchCV(rf1,param_grid = parameters,cv=5,verbose=1,n_jobs=-1)\n",
    "gs_rf.fit(x_train,y_train)"
   ]
  },
  {
   "cell_type": "code",
   "execution_count": 35,
   "metadata": {},
   "outputs": [
    {
     "data": {
      "text/plain": [
       "{'bootstrap': 'True',\n",
       " 'criterion': 'mse',\n",
       " 'max_depth': 9,\n",
       " 'max_features': 'auto',\n",
       " 'min_samples_leaf': 2,\n",
       " 'min_samples_split': 5,\n",
       " 'n_estimators': 150}"
      ]
     },
     "execution_count": 35,
     "metadata": {},
     "output_type": "execute_result"
    }
   ],
   "source": [
    "gs_rf.best_params_"
   ]
  },
  {
   "cell_type": "code",
   "execution_count": 45,
   "metadata": {},
   "outputs": [
    {
     "data": {
      "text/plain": [
       "RandomForestRegressor(bootstrap='True', max_depth=7, min_samples_leaf=2,\n",
       "                      min_samples_split=5, n_estimators=150)"
      ]
     },
     "execution_count": 45,
     "metadata": {},
     "output_type": "execute_result"
    }
   ],
   "source": [
    "rf2 = RandomForestRegressor(bootstrap='True',criterion='mse',max_depth=7,max_features='auto',min_samples_leaf=2,min_samples_split=5,n_estimators=150)\n",
    "rf2.fit(x_train,y_train)"
   ]
  },
  {
   "cell_type": "code",
   "execution_count": 46,
   "metadata": {},
   "outputs": [],
   "source": [
    "pred_train_rf2 = rf2.predict(x_train)\n",
    "pred_test_rf2 = rf2.predict(x_test)"
   ]
  },
  {
   "cell_type": "code",
   "execution_count": 47,
   "metadata": {},
   "outputs": [
    {
     "name": "stdout",
     "output_type": "stream",
     "text": [
      "r2 of train : 0.7391589214877856\n",
      "r2 of test : 0.6822005604717927\n",
      "rmse of train : 5715.619344427595\n",
      "rmse of test : 76502.44240099231\n"
     ]
    }
   ],
   "source": [
    "print(\"r2 of train :\" ,rf2.score(x_train,y_train))\n",
    "print(\"r2 of test :\" ,rf2.score(x_test,y_test))\n",
    "print(\"rmse of train :\", np.sqrt(np.mean(y_train-pred_train_rf2)**2))\n",
    "print(\"rmse of test :\" ,np.sqrt(np.mean(y_test-pred_test_rf2)**2))"
   ]
  },
  {
   "cell_type": "markdown",
   "metadata": {},
   "source": [
    "### Gradient Boosting Regressor"
   ]
  },
  {
   "cell_type": "code",
   "execution_count": 40,
   "metadata": {},
   "outputs": [
    {
     "name": "stdout",
     "output_type": "stream",
     "text": [
      "r2 for train : 0.7405607074346052\n",
      "r2 for test : 0.7417318026288442\n"
     ]
    }
   ],
   "source": [
    "gb = GradientBoostingRegressor()\n",
    "gb.fit(x_train,y_train)\n",
    "print(\"r2 for train :\",gb.score(x_train,y_train))\n",
    "print(\"r2 for test :\",gb.score(x_test,y_test))"
   ]
  },
  {
   "cell_type": "code",
   "execution_count": 48,
   "metadata": {},
   "outputs": [
    {
     "name": "stdout",
     "output_type": "stream",
     "text": [
      "Fitting 5 folds for each of 4320 candidates, totalling 21600 fits\n"
     ]
    },
    {
     "data": {
      "text/plain": [
       "GridSearchCV(cv=5, estimator=GradientBoostingRegressor(random_state=0),\n",
       "             n_jobs=-1,\n",
       "             param_grid={'criterion': ['mse', 'mae'],\n",
       "                         'learning_rate': [0.001, 0.01, 0.1],\n",
       "                         'max_depth': [4, 5, 6, 7, 8],\n",
       "                         'max_features': ['auto', 'sqrt'],\n",
       "                         'min_samples_leaf': [3, 5, 7, 9],\n",
       "                         'min_samples_split': [4, 5, 6],\n",
       "                         'n_estimators': [75, 100, 125],\n",
       "                         'subsample': [0.7, 0.8]},\n",
       "             verbose=1)"
      ]
     },
     "execution_count": 48,
     "metadata": {},
     "output_type": "execute_result"
    }
   ],
   "source": [
    "gb1 = GradientBoostingRegressor(random_state = 0)\n",
    "parameters = {'learning_rate':[0.001,0.01,0.1],\n",
    "             'n_estimators':[75,100,125],\n",
    "             'subsample':[0.7,0.8],\n",
    "             'criterion':['mse','mae'],\n",
    "             'min_samples_split':[4,5,6],\n",
    "             'min_samples_leaf':[3,5,7,9],\n",
    "             'max_depth':[4,5,6,7,8],\n",
    "             'max_features':['auto','sqrt']}\n",
    "gs_gb = GridSearchCV(gb1,parameters,cv=5,n_jobs=-1,verbose=1)\n",
    "gs_gb.fit(x_train,y_train)"
   ]
  },
  {
   "cell_type": "code",
   "execution_count": 49,
   "metadata": {},
   "outputs": [
    {
     "data": {
      "text/plain": [
       "{'criterion': 'mse',\n",
       " 'learning_rate': 0.1,\n",
       " 'max_depth': 4,\n",
       " 'max_features': 'auto',\n",
       " 'min_samples_leaf': 3,\n",
       " 'min_samples_split': 4,\n",
       " 'n_estimators': 125,\n",
       " 'subsample': 0.8}"
      ]
     },
     "execution_count": 49,
     "metadata": {},
     "output_type": "execute_result"
    }
   ],
   "source": [
    "gs_gb.best_params_"
   ]
  },
  {
   "cell_type": "code",
   "execution_count": 55,
   "metadata": {},
   "outputs": [
    {
     "name": "stdout",
     "output_type": "stream",
     "text": [
      "r2 for train : 0.7720886914972453\n",
      "r2 for test : 0.7288823946500699\n"
     ]
    }
   ],
   "source": [
    "gb2 = GradientBoostingRegressor(criterion = 'mse',learning_rate = 0.1,max_depth = 3,max_features = 'auto',min_samples_leaf = 3,\n",
    "min_samples_split = 4,n_estimators = 125,subsample = 0.8)\n",
    "gb2.fit(x_train,y_train)\n",
    "print('r2 for train :' ,gb2.score(x_train,y_train))\n",
    "print('r2 for test :' ,gb2.score(x_test,y_test))"
   ]
  },
  {
   "cell_type": "code",
   "execution_count": 56,
   "metadata": {},
   "outputs": [],
   "source": [
    "pred_train_gb2 = gb2.predict(x_train)\n",
    "pred_test_gb2 = gb2.predict(x_test)"
   ]
  },
  {
   "cell_type": "code",
   "execution_count": 57,
   "metadata": {},
   "outputs": [
    {
     "name": "stdout",
     "output_type": "stream",
     "text": [
      "r2 of train : 0.7720886914972453\n",
      "r2 of test : 0.7288823946500699\n",
      "rmse of train : 383.04896138037753\n",
      "rmse of test : 53259.03947550841\n",
      "mae of train : 436302.7085676444\n",
      "mae of test : 419616.4777234773\n"
     ]
    }
   ],
   "source": [
    "print(\"r2 of train :\" ,gb2.score(x_train,y_train))\n",
    "print(\"r2 of test :\" ,gb2.score(x_test,y_test))\n",
    "print(\"rmse of train :\", np.sqrt(np.mean(y_train-pred_train_gb2)**2))\n",
    "print(\"rmse of test :\" ,np.sqrt(np.mean(y_test-pred_test_gb2)**2))\n",
    "print(\"mae of train :\",np.mean(np.abs(y_train-pred_train_gb2)))\n",
    "print(\"mae of test :\",np.mean(np.abs(y_test-pred_test_gb2)))"
   ]
  },
  {
   "cell_type": "markdown",
   "metadata": {},
   "source": [
    "### XGB Regressor"
   ]
  },
  {
   "cell_type": "code",
   "execution_count": 59,
   "metadata": {},
   "outputs": [
    {
     "name": "stdout",
     "output_type": "stream",
     "text": [
      "r2 for train : 0.994716777934852\n",
      "r2 for test : 0.729236377149637\n"
     ]
    }
   ],
   "source": [
    "xgb = XGBRegressor()\n",
    "xgb.fit(x_train,y_train)\n",
    "print(\"r2 for train :\",xgb.score(x_train,y_train))\n",
    "print(\"r2 for test :\",xgb.score(x_test,y_test))"
   ]
  },
  {
   "cell_type": "code",
   "execution_count": 60,
   "metadata": {},
   "outputs": [
    {
     "name": "stdout",
     "output_type": "stream",
     "text": [
      "Fitting 5 folds for each of 1944 candidates, totalling 9720 fits\n",
      "[21:02:46] WARNING: C:/Users/Administrator/workspace/xgboost-win64_release_1.4.0/src/learner.cc:573: \n",
      "Parameters: { \"criterion\", \"min_samples_split\" } might not be used.\n",
      "\n",
      "  This may not be accurate due to some parameters are only used in language bindings but\n",
      "  passed down to XGBoost core.  Or some parameters are not used but slip through this\n",
      "  verification. Please open an issue if you find above cases.\n",
      "\n",
      "\n"
     ]
    },
    {
     "data": {
      "text/plain": [
       "GridSearchCV(cv=5,\n",
       "             estimator=XGBRegressor(base_score=None, booster=None,\n",
       "                                    colsample_bylevel=None,\n",
       "                                    colsample_bynode=None,\n",
       "                                    colsample_bytree=None, gamma=None,\n",
       "                                    gpu_id=None, importance_type='gain',\n",
       "                                    interaction_constraints=None,\n",
       "                                    learning_rate=None, max_delta_step=None,\n",
       "                                    max_depth=None, min_child_weight=None,\n",
       "                                    missing=nan, monotone_constraints=None,\n",
       "                                    n_estimators=100, n_jobs=...\n",
       "                                    num_parallel_tree=None, random_state=0,\n",
       "                                    reg_alpha=None, reg_lambda=None,\n",
       "                                    scale_pos_weight=None, subsample=None,\n",
       "                                    tree_method=None, validate_parameters=None,\n",
       "                                    verbosity=None),\n",
       "             n_jobs=-1,\n",
       "             param_grid={'criterion': ['mse', 'mae', 'squared_error'],\n",
       "                         'learning_rate': [0.001, 0.01, 0.1],\n",
       "                         'max_depth': [4, 5, 6, 7, 8, 9],\n",
       "                         'min_samples_split': [4, 5, 6, 7],\n",
       "                         'n_estimators': [75, 100, 125],\n",
       "                         'subsample': [0.6, 0.7, 0.8]},\n",
       "             verbose=1)"
      ]
     },
     "execution_count": 60,
     "metadata": {},
     "output_type": "execute_result"
    }
   ],
   "source": [
    "xgb1 = XGBRegressor(random_state = 0)\n",
    "parameters = {'learning_rate':[0.001,0.01,0.1],\n",
    "             'n_estimators':[75,100,125],\n",
    "             'subsample':[0.6,0.7,0.8],\n",
    "             'criterion':['mse','mae','squared_error'],\n",
    "             'min_samples_split':[4,5,6,7],\n",
    "             'max_depth':[4,5,6,7,8,9]}\n",
    "gs_xgb = GridSearchCV(xgb1,parameters,cv=5,n_jobs=-1,verbose=1)\n",
    "gs_xgb.fit(x_train,y_train)"
   ]
  },
  {
   "cell_type": "code",
   "execution_count": 61,
   "metadata": {},
   "outputs": [
    {
     "data": {
      "text/plain": [
       "{'criterion': 'mse',\n",
       " 'learning_rate': 0.1,\n",
       " 'max_depth': 5,\n",
       " 'min_samples_split': 4,\n",
       " 'n_estimators': 125,\n",
       " 'subsample': 0.8}"
      ]
     },
     "execution_count": 61,
     "metadata": {},
     "output_type": "execute_result"
    }
   ],
   "source": [
    "gs_xgb.best_params_"
   ]
  },
  {
   "cell_type": "code",
   "execution_count": 66,
   "metadata": {},
   "outputs": [
    {
     "name": "stdout",
     "output_type": "stream",
     "text": [
      "[01:12:00] WARNING: C:/Users/Administrator/workspace/xgboost-win64_release_1.4.0/src/learner.cc:573: \n",
      "Parameters: { \"criterion\", \"min_samples_split\" } might not be used.\n",
      "\n",
      "  This may not be accurate due to some parameters are only used in language bindings but\n",
      "  passed down to XGBoost core.  Or some parameters are not used but slip through this\n",
      "  verification. Please open an issue if you find above cases.\n",
      "\n",
      "\n",
      "r2 for train : 0.7775057623350603\n",
      "r2 for test : 0.7354884844132177\n"
     ]
    }
   ],
   "source": [
    "xgb2 = XGBRegressor(criterion = 'mse',learning_rate = 0.1,max_depth= 3,min_samples_split= 4,n_estimators= 125,subsample= 0.8)\n",
    "xgb2.fit(x_train,y_train)\n",
    "print('r2 for train :' ,xgb2.score(x_train,y_train))\n",
    "print('r2 for test :' ,xgb2.score(x_test,y_test))"
   ]
  },
  {
   "cell_type": "code",
   "execution_count": 67,
   "metadata": {},
   "outputs": [],
   "source": [
    "pred_train_xgb2 = xgb2.predict(x_train)\n",
    "pred_test_xgb2 = xgb2.predict(x_test)"
   ]
  },
  {
   "cell_type": "code",
   "execution_count": 68,
   "metadata": {},
   "outputs": [
    {
     "name": "stdout",
     "output_type": "stream",
     "text": [
      "r2 of train : 0.7775057623350603\n",
      "r2 of test : 0.7354884844132177\n",
      "rmse of train : 2233.828594588348\n",
      "rmse of test : 53478.18759833442\n",
      "mae of train : 432549.24942165293\n",
      "mae of test : 418386.8045891656\n"
     ]
    }
   ],
   "source": [
    "print(\"r2 of train :\" ,xgb2.score(x_train,y_train))\n",
    "print(\"r2 of test :\" ,xgb2.score(x_test,y_test))\n",
    "print(\"rmse of train :\", np.sqrt(np.mean(y_train-pred_train_xgb2)**2))\n",
    "print(\"rmse of test :\" ,np.sqrt(np.mean(y_test-pred_test_xgb2)**2))\n",
    "print(\"mae of train :\",np.mean(np.abs(y_train-pred_train_xgb2)))\n",
    "print(\"mae of test :\",np.mean(np.abs(y_test-pred_test_xgb2)))"
   ]
  },
  {
   "cell_type": "code",
   "execution_count": null,
   "metadata": {},
   "outputs": [],
   "source": []
  }
 ],
 "metadata": {
  "kernelspec": {
   "display_name": "Python 3",
   "language": "python",
   "name": "python3"
  },
  "language_info": {
   "codemirror_mode": {
    "name": "ipython",
    "version": 3
   },
   "file_extension": ".py",
   "mimetype": "text/x-python",
   "name": "python",
   "nbconvert_exporter": "python",
   "pygments_lexer": "ipython3",
   "version": "3.8.8"
  }
 },
 "nbformat": 4,
 "nbformat_minor": 4
}
